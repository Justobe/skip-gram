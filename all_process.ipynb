{
 "cells": [
  {
   "cell_type": "code",
   "execution_count": 1,
   "metadata": {},
   "outputs": [],
   "source": [
    "import time\n",
    "import numpy as np\n",
    "import tensorflow as tf\n",
    "import random\n",
    "from collections import Counter"
   ]
  },
  {
   "cell_type": "code",
   "execution_count": 2,
   "metadata": {
    "scrolled": true
   },
   "outputs": [
    {
     "name": "stdout",
     "output_type": "stream",
     "text": [
      "5207259\n"
     ]
    }
   ],
   "source": [
    "text = []\n",
    "with open('corpus_0307_1.txt','r') as f:\n",
    "    for line in f.readlines():\n",
    "        line = line.strip('\\n')\n",
    "        text.extend(line.split(\" \"))\n",
    "print(len(text))"
   ]
  },
  {
   "cell_type": "code",
   "execution_count": 18,
   "metadata": {
    "scrolled": true
   },
   "outputs": [
    {
     "name": "stdout",
     "output_type": "stream",
     "text": [
      "{'superinterfaces', 'variableModifier', 'packageOrTypeName', 'wildcardBounds', 'switchStatement', 'statementNoShortIf', 'fieldAccess', 'interfaceTypeList', 'fieldModifier', 'dimExprs', 'enhancedForStatement', 'classMemberDeclaration', 'dims', 'labeledStatement', 'elementValueArrayInitializer', 'castExpression', 'inferredFormalParameterList', 'typeArgumentsOrDiamond', 'exceptionTypeList', 'classBody', 'variableInitializer', 'arrayCreationExpression', 'finally_', 'methodHeader', 'classOrInterfaceType', 'tryStatement', 'methodInvocation_lf_primary', 'dimExpr', 'formalParameter', 'classType_lf_classOrInterfaceType', 'emptyStatement', 'markerAnnotation', 'ambiguousName', 'classBodyDeclaration', 'localVariableDeclaration', 'methodInvocation_lfno_primary', 'classInstanceCreationExpression', 'block', 'assignmentOperator', 'floatingPointType', 'result', 'postfixExpression', 'numericType', 'switchLabel', 'constructorDeclaration', 'methodModifier', 'expression', 'classType', 'typeArguments', 'typeParameterList', 'typeArgumentList', 'statement', 'arrayInitializer', 'interfaceType', 'constructorBody', 'formalParameterList', 'throwStatement', 'breakStatement', 'resource', 'catchFormalParameter', 'assignmentExpression', 'continueStatement', 'throws_', 'classInstanceCreationExpression_lfno_primary', 'arrayType', 'methodBody', 'statementExpression', 'fieldAccess_lf_primary', 'simpleTypeName', 'elementValueList', 'arrayAccess', 'typeName', 'ifThenStatement', 'methodReference_lfno_primary', 'variableDeclarator', 'typeArgument', 'literal', 'exceptionType', 'integralType', 'switchBlockStatementGroup', 'tryWithResourcesStatement', 'catchClause', 'assignment', 'catches', 'normalClassDeclaration', 'formalParameters', 'blockStatement', 'switchBlock', 'lambdaBody', 'lastFormalParameter', 'argumentList', 'postIncrementExpression', 'typeBound', 'typeVariable', 'basicForStatement', 'switchLabels', 'returnStatement', 'arrayAccess_lfno_primary', 'variableInitializerList', 'catchType', 'expressionName', 'typeParameters', 'primitiveType', 'referenceType', 'elementValue', 'whileStatement', 'variableDeclaratorList', 'methodDeclaration', 'postDecrementExpression', 'assertStatement', 'annotation', 'classDeclaration', 'statementExpressionList', 'postIncrementExpression_lf_postfixExpression', 'fieldDeclaration', 'classType_lfno_classOrInterfaceType', 'methodName', 'forInit', 'methodDeclarator', 'ifThenElseStatement', 'methodInvocation', 'typeParameter', 'lambdaParameters', 'expressionStatement', 'resourceSpecification', 'forStatement', 'forUpdate', 'resourceList', 'synchronizedStatement', 'lambdaExpression', 'variableDeclaratorId', 'leftHandSide', 'blockStatements', 'constructorDeclarator', 'doStatement', 'arrayAccess_lf_primary', 'statementWithoutTrailingSubstatement', 'singleElementAnnotation', 'wildcard', 'postDecrementExpression_lf_postfixExpression', 'constantExpression', 'localVariableDeclarationStatement'}\n"
     ]
    }
   ],
   "source": [
    "words_count = Counter(text)\n",
    "#print(words_count)\n",
    "#print(words_count)\n",
    "words = [w for w in text if words_count[w]>=5 and w!='']\n",
    "print(set(words))"
   ]
  },
  {
   "cell_type": "code",
   "execution_count": 19,
   "metadata": {},
   "outputs": [
    {
     "name": "stdout",
     "output_type": "stream",
     "text": [
      "{'superinterfaces': 0, 'variableModifier': 1, 'packageOrTypeName': 2, 'wildcardBounds': 3, 'switchStatement': 4, 'statementNoShortIf': 5, 'fieldAccess': 6, 'interfaceTypeList': 7, 'fieldModifier': 8, 'dimExprs': 9, 'enhancedForStatement': 10, 'classMemberDeclaration': 11, 'dims': 12, 'labeledStatement': 13, 'elementValueArrayInitializer': 14, 'castExpression': 15, 'inferredFormalParameterList': 16, 'typeArgumentsOrDiamond': 17, 'exceptionTypeList': 18, 'classBody': 19, 'variableInitializer': 20, 'arrayCreationExpression': 21, 'finally_': 22, 'methodHeader': 23, 'classOrInterfaceType': 24, 'tryStatement': 25, 'methodInvocation_lf_primary': 26, 'dimExpr': 27, 'formalParameter': 28, 'classType_lf_classOrInterfaceType': 29, 'emptyStatement': 30, 'markerAnnotation': 31, 'ambiguousName': 32, 'classBodyDeclaration': 33, 'localVariableDeclaration': 34, 'methodInvocation_lfno_primary': 35, 'classInstanceCreationExpression': 36, 'block': 37, 'assignmentOperator': 38, 'floatingPointType': 39, 'result': 40, 'postfixExpression': 41, 'numericType': 42, 'switchLabel': 43, 'constructorDeclaration': 44, 'methodModifier': 45, 'expression': 46, 'classType': 47, 'typeArguments': 48, 'typeParameterList': 49, 'typeArgumentList': 50, 'statement': 51, 'arrayInitializer': 52, 'interfaceType': 53, 'constructorBody': 54, 'formalParameterList': 55, 'throwStatement': 56, 'breakStatement': 57, 'resource': 58, 'catchFormalParameter': 59, 'assignmentExpression': 60, 'continueStatement': 61, 'throws_': 62, 'classInstanceCreationExpression_lfno_primary': 63, 'arrayType': 64, 'methodBody': 65, 'statementExpression': 66, 'fieldAccess_lf_primary': 67, 'simpleTypeName': 68, 'elementValueList': 69, 'arrayAccess': 70, 'typeName': 71, 'ifThenStatement': 72, 'methodReference_lfno_primary': 73, 'variableDeclarator': 74, 'typeArgument': 75, 'literal': 76, 'exceptionType': 77, 'integralType': 78, 'switchBlockStatementGroup': 79, 'tryWithResourcesStatement': 80, 'catchClause': 81, 'assignment': 82, 'catches': 83, 'normalClassDeclaration': 84, 'formalParameters': 85, 'blockStatement': 86, 'switchBlock': 87, 'lambdaBody': 88, 'lastFormalParameter': 89, 'argumentList': 90, 'postIncrementExpression': 91, 'typeBound': 92, 'typeVariable': 93, 'basicForStatement': 94, 'switchLabels': 95, 'returnStatement': 96, 'arrayAccess_lfno_primary': 97, 'variableInitializerList': 98, 'catchType': 99, 'expressionName': 100, 'typeParameters': 101, 'primitiveType': 102, 'referenceType': 103, 'elementValue': 104, 'whileStatement': 105, 'variableDeclaratorList': 106, 'methodDeclaration': 107, 'postDecrementExpression': 108, 'assertStatement': 109, 'annotation': 110, 'classDeclaration': 111, 'statementExpressionList': 112, 'postIncrementExpression_lf_postfixExpression': 113, 'fieldDeclaration': 114, 'classType_lfno_classOrInterfaceType': 115, 'methodName': 116, 'forInit': 117, 'methodDeclarator': 118, 'ifThenElseStatement': 119, 'methodInvocation': 120, 'typeParameter': 121, 'lambdaParameters': 122, 'expressionStatement': 123, 'resourceSpecification': 124, 'forStatement': 125, 'forUpdate': 126, 'resourceList': 127, 'synchronizedStatement': 128, 'lambdaExpression': 129, 'variableDeclaratorId': 130, 'leftHandSide': 131, 'blockStatements': 132, 'constructorDeclarator': 133, 'doStatement': 134, 'arrayAccess_lf_primary': 135, 'statementWithoutTrailingSubstatement': 136, 'singleElementAnnotation': 137, 'wildcard': 138, 'postDecrementExpression_lf_postfixExpression': 139, 'constantExpression': 140, 'localVariableDeclarationStatement': 141}\n",
      "total words: 5198252\n",
      "unique words: 142\n"
     ]
    }
   ],
   "source": [
    "vocab_dict = set(words)\n",
    "vocab_to_int = {w:c for c,w in enumerate(vocab_dict)}\n",
    "int_to_vocab = {c:w for c,w in enumerate(vocab_dict)}\n",
    "print(vocab_to_int)\n",
    "print(\"total words: {}\".format(len(words)))\n",
    "print(\"unique words: {}\".format(len(vocab_dict)))\n",
    "int_words = [vocab_to_int[w] for w in words]\n",
    "train_words = int_words"
   ]
  },
  {
   "cell_type": "code",
   "execution_count": 76,
   "metadata": {
    "scrolled": true
   },
   "outputs": [],
   "source": [
    "#t =1e-5\n",
    "#threshold = 0.95\n",
    "\n",
    "#int_words_counts = Counter(int_words)\n",
    "#total_count = len(int_words)\n",
    "#words_freqs = {w: c/total_count for w,c in int_words_counts.items()}\n",
    "#prob_drop = {w: 1-np.sqrt(t/words_freqs[w]) for w in int_words_counts}\n",
    "#train_words = [w for w in int_words if prob_drop[w] < threshold]\n",
    "#print(len(set(train_words)))\n",
    "#for idx in set(int_words):\n",
    "#    if idx not in set(train_words):\n",
    "#        print(int_to_vocab[idx],\":\",words_count[int_to_vocab[idx]])"
   ]
  },
  {
   "cell_type": "code",
   "execution_count": 77,
   "metadata": {},
   "outputs": [],
   "source": [
    "def get_target(words,idx,window_size = 5):\n",
    "    target_window = np.random.randint(1,window_size+1)\n",
    "    start_idx = idx - target_window if (idx - target_window) > 0 else 0\n",
    "    end_idx = idx + target_window\n",
    "    targets_words = set(words[start_idx:idx]+words[idx+1:end_idx+1])\n",
    "    return list(targets_words)"
   ]
  },
  {
   "cell_type": "code",
   "execution_count": 86,
   "metadata": {},
   "outputs": [],
   "source": [
    "def get_batches(words,batch_size,window_size=5): #batch 生成器\n",
    "    batch_num = len(words) // batch_size        #返回值形式为一个batch_size大小的句子中，所有的样本\n",
    "    \n",
    "    words = words[:batch_num*batch_size]\n",
    "    for idx in range(0,len(words),batch_size):\n",
    "        x,y = [],[]\n",
    "        batch = words[idx:idx+batch_size]\n",
    "        for i in range(len(batch)):\n",
    "            batch_x = batch[i]\n",
    "            batch_y = get_target(batch,i,window_size)\n",
    "            x.extend([batch_x]*len(batch_y))\n",
    "            y.extend(batch_y)\n",
    "        yield x,y"
   ]
  },
  {
   "cell_type": "code",
   "execution_count": 87,
   "metadata": {},
   "outputs": [],
   "source": [
    "train_graph = tf.Graph()\n",
    "with train_graph.as_default():\n",
    "    inputs = tf.placeholder(tf.int32,shape=[None],name='inputs')\n",
    "    labels = tf.placeholder(tf.int32,shape=[None,None],name='labels')"
   ]
  },
  {
   "cell_type": "code",
   "execution_count": 88,
   "metadata": {},
   "outputs": [],
   "source": [
    "vocab_size = len(int_to_vocab)\n",
    "embedding_size = 64 # 嵌入维度"
   ]
  },
  {
   "cell_type": "code",
   "execution_count": 89,
   "metadata": {},
   "outputs": [],
   "source": [
    "with train_graph.as_default():\n",
    "    #嵌入权重矩阵\n",
    "    embedding = tf.Variable(tf.random_uniform([vocab_size,embedding_size],-1,1))\n",
    "    embed = tf.nn.embedding_lookup(embedding,inputs)"
   ]
  },
  {
   "cell_type": "code",
   "execution_count": 90,
   "metadata": {},
   "outputs": [],
   "source": [
    "n_sampled = 100\n",
    "\n",
    "with train_graph.as_default():\n",
    "    weights = tf.Variable(tf.truncated_normal([vocab_size, embedding_size], stddev=0.1))\n",
    "    biases = tf.Variable(tf.zeros(vocab_size))\n",
    "    \n",
    "    # 计算negative sampling下的损失\n",
    "    loss = tf.nn.sampled_softmax_loss(weights, biases, labels, embed, n_sampled, vocab_size)\n",
    "    \n",
    "    cost = tf.reduce_mean(loss)\n",
    "    optimizer = tf.train.AdamOptimizer().minimize(cost)"
   ]
  },
  {
   "cell_type": "code",
   "execution_count": 91,
   "metadata": {},
   "outputs": [],
   "source": [
    "#validation\n",
    "with train_graph.as_default():\n",
    "    valid_examples = [vocab_to_int['whileStatement'],vocab_to_int['forStatement']]\n",
    "    valid_size = len(valid_examples)\n",
    "    # 验证单词集\n",
    "    valid_dataset = tf.constant(valid_examples, dtype=tf.int32)\n",
    "    \n",
    "    norm = tf.sqrt(tf.reduce_sum(tf.square(embedding), 1, keep_dims=True))\n",
    "    normalized_embedding = embedding / norm\n",
    "    # 查找验证单词的词向量\n",
    "    valid_embedding = tf.nn.embedding_lookup(normalized_embedding, valid_dataset) #查找验证集的向量\n",
    "    # 计算余弦相似度\n",
    "    similarity = tf.matmul(valid_embedding, tf.transpose(normalized_embedding))#矩阵乘法"
   ]
  },
  {
   "cell_type": "code",
   "execution_count": 95,
   "metadata": {},
   "outputs": [
    {
     "name": "stdout",
     "output_type": "stream",
     "text": [
      "Epoch 1/10 Iteration: 1000 Avg. Training loss: 29.1493 0.2501 sec/batch\n",
      "Epoch 1/10 Iteration: 2000 Avg. Training loss: 26.3221 0.2472 sec/batch\n",
      "Epoch 1/10 Iteration: 3000 Avg. Training loss: 26.1845 0.2441 sec/batch\n",
      "Epoch 1/10 Iteration: 4000 Avg. Training loss: 26.4329 0.2482 sec/batch\n",
      "Epoch 1/10 Iteration: 5000 Avg. Training loss: 25.3479 0.2420 sec/batch\n",
      "Epoch 2/10 Iteration: 6000 Avg. Training loss: 25.5833 0.1922 sec/batch\n",
      "Epoch 2/10 Iteration: 7000 Avg. Training loss: 26.1297 0.2474 sec/batch\n",
      "Epoch 2/10 Iteration: 8000 Avg. Training loss: 25.9184 0.2468 sec/batch\n",
      "Epoch 2/10 Iteration: 9000 Avg. Training loss: 26.2308 0.2462 sec/batch\n",
      "Epoch 2/10 Iteration: 10000 Avg. Training loss: 25.4314 0.2432 sec/batch\n",
      "Nearest to [whileStatement]: ifThenElseStatement, ifThenStatement, forStatement, switchStatement, synchronizedStatement, assertStatement, labeledStatement, statementWithoutTrailingSubstatement,\n",
      "Nearest to [forStatement]: basicForStatement, forInit, whileStatement, ifThenElseStatement, localVariableDeclarationStatement, ifThenStatement, enhancedForStatement, methodReference_lfno_primary,\n",
      "Epoch 3/10 Iteration: 11000 Avg. Training loss: 25.7002 0.1457 sec/batch\n",
      "Epoch 3/10 Iteration: 12000 Avg. Training loss: 25.9621 0.2639 sec/batch\n",
      "Epoch 3/10 Iteration: 13000 Avg. Training loss: 25.8504 0.2508 sec/batch\n",
      "Epoch 3/10 Iteration: 14000 Avg. Training loss: 26.0781 0.2459 sec/batch\n",
      "Epoch 3/10 Iteration: 15000 Avg. Training loss: 25.8238 0.2464 sec/batch\n",
      "Epoch 4/10 Iteration: 16000 Avg. Training loss: 25.4297 0.0967 sec/batch\n",
      "Epoch 4/10 Iteration: 17000 Avg. Training loss: 25.8735 0.2495 sec/batch\n",
      "Epoch 4/10 Iteration: 18000 Avg. Training loss: 25.8915 0.2483 sec/batch\n",
      "Epoch 4/10 Iteration: 19000 Avg. Training loss: 26.0058 0.2452 sec/batch\n",
      "Epoch 4/10 Iteration: 20000 Avg. Training loss: 26.2662 0.2435 sec/batch\n",
      "Nearest to [whileStatement]: ifThenElseStatement, ifThenStatement, forStatement, switchStatement, labeledStatement, synchronizedStatement, assertStatement, enhancedForStatement,\n",
      "Nearest to [forStatement]: basicForStatement, forInit, localVariableDeclarationStatement, whileStatement, ifThenElseStatement, ifThenStatement, labeledStatement, forUpdate,\n",
      "Epoch 5/10 Iteration: 21000 Avg. Training loss: 24.9984 0.0425 sec/batch\n",
      "Epoch 5/10 Iteration: 22000 Avg. Training loss: 25.9114 0.2468 sec/batch\n",
      "Epoch 5/10 Iteration: 23000 Avg. Training loss: 25.9325 0.2486 sec/batch\n",
      "Epoch 5/10 Iteration: 24000 Avg. Training loss: 26.0207 0.2459 sec/batch\n",
      "Epoch 5/10 Iteration: 25000 Avg. Training loss: 26.3159 0.2480 sec/batch\n",
      "Epoch 5/10 Iteration: 26000 Avg. Training loss: 25.2751 0.2395 sec/batch\n",
      "Epoch 6/10 Iteration: 27000 Avg. Training loss: 25.6442 0.2372 sec/batch\n",
      "Epoch 6/10 Iteration: 28000 Avg. Training loss: 25.8960 0.2458 sec/batch\n",
      "Epoch 6/10 Iteration: 29000 Avg. Training loss: 25.9838 0.2473 sec/batch\n",
      "Epoch 6/10 Iteration: 30000 Avg. Training loss: 26.1928 0.2466 sec/batch\n",
      "Nearest to [whileStatement]: ifThenElseStatement, ifThenStatement, forStatement, switchStatement, labeledStatement, enhancedForStatement, synchronizedStatement, assertStatement,\n",
      "Nearest to [forStatement]: basicForStatement, forInit, localVariableDeclarationStatement, whileStatement, ifThenElseStatement, ifThenStatement, labeledStatement, forUpdate,\n",
      "Epoch 6/10 Iteration: 31000 Avg. Training loss: 25.3045 0.2450 sec/batch\n",
      "Epoch 7/10 Iteration: 32000 Avg. Training loss: 25.5843 0.1900 sec/batch\n",
      "Epoch 7/10 Iteration: 33000 Avg. Training loss: 26.1131 0.2510 sec/batch\n",
      "Epoch 7/10 Iteration: 34000 Avg. Training loss: 25.8498 0.2491 sec/batch\n",
      "Epoch 7/10 Iteration: 35000 Avg. Training loss: 26.2739 0.2462 sec/batch\n",
      "Epoch 7/10 Iteration: 36000 Avg. Training loss: 25.4474 0.2380 sec/batch\n",
      "Epoch 8/10 Iteration: 37000 Avg. Training loss: 25.7480 0.1360 sec/batch\n",
      "Epoch 8/10 Iteration: 38000 Avg. Training loss: 25.9593 0.2426 sec/batch\n",
      "Epoch 8/10 Iteration: 39000 Avg. Training loss: 25.8072 0.2460 sec/batch\n",
      "Epoch 8/10 Iteration: 40000 Avg. Training loss: 26.0993 0.2473 sec/batch\n",
      "Nearest to [whileStatement]: ifThenElseStatement, ifThenStatement, forStatement, switchStatement, enhancedForStatement, labeledStatement, synchronizedStatement, assertStatement,\n",
      "Nearest to [forStatement]: basicForStatement, forInit, localVariableDeclarationStatement, whileStatement, labeledStatement, ifThenElseStatement, ifThenStatement, forUpdate,\n",
      "Epoch 8/10 Iteration: 41000 Avg. Training loss: 25.8322 0.2448 sec/batch\n",
      "Epoch 9/10 Iteration: 42000 Avg. Training loss: 25.3896 0.0855 sec/batch\n",
      "Epoch 9/10 Iteration: 43000 Avg. Training loss: 25.8715 0.2440 sec/batch\n",
      "Epoch 9/10 Iteration: 44000 Avg. Training loss: 25.8941 0.2482 sec/batch\n",
      "Epoch 9/10 Iteration: 45000 Avg. Training loss: 26.0254 0.2458 sec/batch\n",
      "Epoch 9/10 Iteration: 46000 Avg. Training loss: 26.2750 0.2498 sec/batch\n",
      "Epoch 10/10 Iteration: 47000 Avg. Training loss: 25.1077 0.0354 sec/batch\n",
      "Epoch 10/10 Iteration: 48000 Avg. Training loss: 25.8863 0.2562 sec/batch\n",
      "Epoch 10/10 Iteration: 49000 Avg. Training loss: 25.8531 0.2495 sec/batch\n",
      "Epoch 10/10 Iteration: 50000 Avg. Training loss: 26.0473 0.2449 sec/batch\n",
      "Nearest to [whileStatement]: ifThenElseStatement, ifThenStatement, forStatement, switchStatement, enhancedForStatement, labeledStatement, synchronizedStatement, assertStatement,\n",
      "Nearest to [forStatement]: basicForStatement, forInit, localVariableDeclarationStatement, whileStatement, labeledStatement, ifThenStatement, forUpdate, ifThenElseStatement,\n",
      "Epoch 10/10 Iteration: 51000 Avg. Training loss: 26.2084 0.2529 sec/batch\n",
      "Epoch 10/10 Iteration: 52000 Avg. Training loss: 25.2217 0.2426 sec/batch\n"
     ]
    }
   ],
   "source": [
    "epochs = 10\n",
    "batch_size = 1000\n",
    "window_size = 5\n",
    "\n",
    "with train_graph.as_default():\n",
    "    saver = tf.train.Saver()\n",
    "\n",
    "with tf.Session(graph=train_graph) as sess:\n",
    "    iteration = 1\n",
    "    loss = 0\n",
    "    sess.run(tf.global_variables_initializer())\n",
    "    \n",
    "    for e in range(1,epochs+1):\n",
    "        batches = get_batches(train_words,batch_size,window_size)\n",
    "        start = time.time()\n",
    "        \n",
    "        for x,y in batches:\n",
    "            feed = {inputs:x,\n",
    "                    labels:np.array(y)[:,None]}\n",
    "            train_loss,_ = sess.run([cost,optimizer],feed_dict=feed)\n",
    "            loss+= train_loss\n",
    "            \n",
    "            if iteration % 1000 == 0: \n",
    "                end = time.time()\n",
    "                print(\"Epoch {}/{}\".format(e, epochs),\n",
    "                    \"Iteration: {}\".format(iteration),\n",
    "                    \"Avg. Training loss: {:.4f}\".format(loss/100),\n",
    "                    \"{:.4f} sec/batch\".format((end-start)/100))\n",
    "                loss = 0\n",
    "                start = time.time()\n",
    "                \n",
    "            if iteration % 10000 == 0:\n",
    "                # 计算similarity\n",
    "                sim = similarity.eval()\n",
    "                for i in range(valid_size):\n",
    "                    valid_word = int_to_vocab[valid_examples[i]]\n",
    "                    top_k = 8 # 取最相似单词的前8个\n",
    "                    nearest = (-sim[i, :]).argsort()[1:top_k+1]\n",
    "                    log = 'Nearest to [%s]:' % valid_word\n",
    "                    for k in range(top_k):\n",
    "                        close_word = int_to_vocab[nearest[k]]\n",
    "                        log = '%s %s,' % (log, close_word)\n",
    "                    print(log)\n",
    "            \n",
    "            iteration += 1\n",
    "        \n",
    "                \n",
    "    save_path = saver.save(sess, \"word2vec.ckpt\")\n",
    "    embed_mat = sess.run(embedding)\n",
    "            \n",
    "            "
   ]
  },
  {
   "cell_type": "code",
   "execution_count": null,
   "metadata": {},
   "outputs": [],
   "source": [
    "wordvec_dict = {}\n",
    "for w,c in vocab_to_int.items():\n",
    "    wordvec_dict[w] = embed_mat[c]\n",
    "print(wordvec_dict)\n",
    "\n",
    "import pickle as pkl\n",
    "output = open('word_vector.pkl','wb')\n",
    "pkl.dump(wordvec_dict,output)\n"
   ]
  },
  {
   "cell_type": "code",
   "execution_count": 25,
   "metadata": {},
   "outputs": [
    {
     "name": "stdout",
     "output_type": "stream",
     "text": [
      "[[  4.83872509e+00  -1.15896988e+00]\n",
      " [ -2.15072417e+00   3.53003097e+00]\n",
      " [ -3.94983530e+00   1.60805464e+00]\n",
      " [ -2.88369155e+00   6.30308151e-01]\n",
      " [  1.29916680e+00   9.82644796e-01]\n",
      " [  3.70569921e+00  -1.02324617e+00]\n",
      " [  1.11429656e+00   2.28040218e-02]\n",
      " [ -4.89004803e+00  -5.93147874e-01]\n",
      " [ -7.74913669e-01  -5.26541901e+00]\n",
      " [  6.04061365e+00   4.21941519e+00]\n",
      " [  3.80865073e+00  -5.09030533e+00]\n",
      " [ -1.60656512e+00  -5.85328150e+00]\n",
      " [  2.87361354e-01   9.19065094e+00]\n",
      " [  2.33294666e-01   1.84028244e+00]\n",
      " [ -3.63619864e-01   5.69872952e+00]\n",
      " [  4.57010794e+00  -5.33758020e+00]\n",
      " [  4.76560068e+00   1.92143774e+00]\n",
      " [  2.82725143e+00   1.40389279e-01]\n",
      " [  1.43391907e+00  -2.23194861e+00]\n",
      " [  2.35071135e+00   6.42735434e+00]\n",
      " [ -3.17414477e-02   6.53030396e-01]\n",
      " [ -2.11233944e-01  -1.11329103e+00]\n",
      " [  1.98629141e+00   1.25585544e+00]\n",
      " [  7.30633020e-01  -3.25003147e+00]\n",
      " [ -1.12079307e-01  -4.21510905e-01]\n",
      " [  9.49887186e-02  -4.96022081e+00]\n",
      " [  3.27928096e-01   9.25029564e+00]\n",
      " [ -2.86966681e+00  -2.21692991e+00]\n",
      " [ -1.02780509e+00   1.23896110e+00]\n",
      " [  7.17882395e+00  -2.69642758e+00]\n",
      " [ -6.07289743e+00   1.96722400e+00]\n",
      " [ -1.63638389e+00   2.47243667e+00]\n",
      " [ -1.25982475e+00   4.31847006e-01]\n",
      " [  4.17026424e+00  -5.20701504e+00]\n",
      " [  4.15459251e+00   3.46530604e+00]\n",
      " [  1.23524857e+00   2.18552184e+00]\n",
      " [  3.52355599e+00   2.15224065e-02]\n",
      " [ -3.65323871e-01  -2.91984820e+00]\n",
      " [  6.01032162e+00  -3.61159265e-01]\n",
      " [ -9.87496614e-01  -4.95258391e-01]\n",
      " [ -3.65626383e+00   6.62932396e+00]\n",
      " [ -5.25800467e+00  -9.63609576e-01]\n",
      " [  1.19846535e+00   5.59465361e+00]\n",
      " [  3.24481177e+00  -3.33549738e-01]\n",
      " [  5.68861902e-01   1.02962248e-01]\n",
      " [  3.09492922e+00  -1.70296299e+00]\n",
      " [ -4.79291534e+00  -2.31881332e+00]\n",
      " [  3.54393148e+00   6.68758345e+00]\n",
      " [ -1.92708790e+00   1.19083834e+00]\n",
      " [ -2.52937198e+00   6.18393326e+00]\n",
      " [  1.69490731e+00   4.31464720e+00]\n",
      " [  4.90806866e+00   5.88167143e+00]\n",
      " [  3.35137606e+00   6.91013575e+00]\n",
      " [  6.14636183e-01  -8.60091567e-01]\n",
      " [  6.11154747e+00   4.20510530e+00]\n",
      " [ -6.23943233e+00   1.80993223e+00]\n",
      " [ -1.79872441e+00   1.19694018e+00]\n",
      " [  4.74489212e+00   1.91962636e+00]\n",
      " [  3.43494487e+00   7.05162001e+00]\n",
      " [  7.39895284e-01  -9.65962589e-01]\n",
      " [ -2.15015817e+00  -1.33768469e-01]\n",
      " [ -1.79870379e+00   2.45851740e-01]\n",
      " [  1.24277127e+00   6.34324729e-01]\n",
      " [  5.98272324e-01   2.04547048e+00]\n",
      " [  7.01458311e+00  -2.33968163e+00]\n",
      " [ -2.47766805e+00   2.79633594e+00]\n",
      " [ -1.37221360e+00  -2.12604308e+00]\n",
      " [ -6.10948753e+00   3.08589602e+00]\n",
      " [ -6.20204353e+00   1.76875198e+00]\n",
      " [ -1.18992257e+00  -5.30328131e+00]\n",
      " [  3.57367992e-01   9.24607372e+00]\n",
      " [ -5.06225824e-01   5.92589808e+00]\n",
      " [  1.82329750e+00  -6.00221014e+00]\n",
      " [  2.97392583e+00   3.78961802e+00]\n",
      " [ -1.46402335e+00  -5.70769644e+00]\n",
      " [ -4.48424220e-01   6.22237349e+00]\n",
      " [  1.03849280e+00   2.96547413e+00]\n",
      " [ -1.87981868e+00  -1.78545988e+00]\n",
      " [ -3.64040089e+00   6.61906528e+00]\n",
      " [  2.63459116e-01   1.47432458e+00]\n",
      " [ -3.37395000e+00  -2.32411075e+00]\n",
      " [  1.61619639e+00  -5.08049774e+00]\n",
      " [  1.61707056e+00  -5.04540348e+00]\n",
      " [  6.42118740e+00   2.07047200e+00]\n",
      " [  2.66648126e+00  -1.78798878e+00]\n",
      " [  2.37421346e+00  -4.76372540e-01]\n",
      " [ -3.62698913e+00  -2.85265040e+00]\n",
      " [  4.07813025e+00   7.53097236e-02]\n",
      " [  1.59684205e+00  -2.22637844e+00]\n",
      " [ -3.29522133e+00  -2.37447381e+00]\n",
      " [  1.93246865e+00   6.21441960e-01]\n",
      " [ -1.23676395e+00  -2.03646159e+00]\n",
      " [ -3.75533199e+00   2.01053143e+00]\n",
      " [ -6.20376921e+00   3.08183312e+00]\n",
      " [  5.47238636e+00   3.00359994e-01]\n",
      " [  4.60915947e+00  -2.51179075e+00]\n",
      " [ -3.82884033e-03   8.89326382e+00]\n",
      " [  2.47520709e+00   2.44743204e+00]\n",
      " [  9.01927829e-01   2.19232249e+00]\n",
      " [  6.23944616e+00   3.78813052e+00]\n",
      " [  5.01322937e+00   5.14469910e+00]\n",
      " [  2.82039857e+00   1.34523058e+00]\n",
      " [ -9.85271871e-01   2.32438207e+00]\n",
      " [  2.86235833e+00   3.30484128e+00]\n",
      " [ -6.88517570e-01   1.03842294e+00]\n",
      " [  1.13728392e+00   4.62241459e+00]\n",
      " [  2.15229654e+00   1.65195990e+00]\n",
      " [  1.11562467e+00  -9.79885817e-01]\n",
      " [ -4.43454885e+00   3.88586497e+00]\n",
      " [  3.35409951e+00   5.36169624e+00]\n",
      " [ -2.70099545e+00  -1.23414755e+00]\n",
      " [ -1.24977243e+00   4.19866133e+00]\n",
      " [ -3.67407012e+00  -2.86628699e+00]\n",
      " [  1.19035602e+00   9.04414177e-01]\n",
      " [  1.30281299e-01   3.98049092e+00]\n",
      " [  3.10554361e+00   1.51999235e+00]\n",
      " [  3.42237496e+00  -3.40691638e+00]\n",
      " [  3.48280406e+00   1.80069840e+00]\n",
      " [  3.46875215e+00   6.63428688e+00]\n",
      " [  2.39258170e+00  -8.75915349e-01]\n",
      " [  4.63254547e+00  -2.46379733e+00]\n",
      " [ -4.79645133e-02  -2.30031848e+00]\n",
      " [  5.74134064e+00   1.68244019e-01]\n",
      " [  4.20708132e+00   1.33300647e-01]\n",
      " [  1.65115666e+00  -5.08657026e+00]\n",
      " [  2.70602417e+00  -2.76805639e+00]\n",
      " [  1.50840491e-01  -1.43206084e+00]\n",
      " [ -2.06330895e-01   9.78928626e-01]\n",
      " [  1.32346773e+00   5.26345539e+00]\n",
      " [  7.07961988e+00   3.18645787e+00]\n",
      " [  2.76650763e+00  -4.30263424e+00]\n",
      " [ -1.27059269e+00  -3.93387127e+00]\n",
      " [ -4.92500454e-01   3.06243014e+00]\n",
      " [ -3.19492388e+00   6.91329145e+00]\n",
      " [ -3.24449492e+00   3.77598834e+00]\n",
      " [ -2.82695949e-01   6.33303499e+00]\n",
      " [  5.25464058e+00   3.93181872e+00]\n",
      " [  4.75764751e-01  -3.50245833e+00]\n",
      " [ -4.83881283e+00  -4.54301536e-01]\n",
      " [ -3.79145652e-01   1.79713547e+00]\n",
      " [ -3.22367454e+00   3.74952126e+00]\n",
      " [ -2.03765146e-02   2.48376799e+00]]\n"
     ]
    }
   ],
   "source": [
    "\n",
    "import pickle\n",
    "from sklearn.manifold import TSNE\n",
    "%matplotlib inline\n",
    "import matplotlib.pyplot as plt\n",
    "import mpld3\n",
    "mpld3.enable_notebook()\n",
    "from mpld3 import plugins\n",
    "pkl_file = open('word_vector.pkl','rb')\n",
    "word_vectors = pickle.load(pkl_file)\n",
    "#print(word_vectors)\n",
    "word_vectors.pop('')\n",
    "\n",
    "words_list = list(word_vectors.keys())\n",
    "vector_list = list(word_vectors.values())\n",
    "#print(words_list)\n",
    "#print(vector_list)\n",
    "x_y = TSNE(n_components=2).fit_transform(vector_list)\n",
    "print(x_y)\n",
    "\n"
   ]
  },
  {
   "cell_type": "code",
   "execution_count": 28,
   "metadata": {},
   "outputs": [
    {
     "ename": "TypeError",
     "evalue": "Object of type 'ndarray' is not JSON serializable",
     "output_type": "error",
     "traceback": [
      "\u001b[0;31m---------------------------------------------------------------------------\u001b[0m",
      "\u001b[0;31mTypeError\u001b[0m                                 Traceback (most recent call last)",
      "\u001b[0;32m~/anaconda3/envs/python36/lib/python3.6/site-packages/IPython/core/formatters.py\u001b[0m in \u001b[0;36m__call__\u001b[0;34m(self, obj)\u001b[0m\n\u001b[1;32m    330\u001b[0m                 \u001b[0;32mpass\u001b[0m\u001b[0;34m\u001b[0m\u001b[0m\n\u001b[1;32m    331\u001b[0m             \u001b[0;32melse\u001b[0m\u001b[0;34m:\u001b[0m\u001b[0;34m\u001b[0m\u001b[0m\n\u001b[0;32m--> 332\u001b[0;31m                 \u001b[0;32mreturn\u001b[0m \u001b[0mprinter\u001b[0m\u001b[0;34m(\u001b[0m\u001b[0mobj\u001b[0m\u001b[0;34m)\u001b[0m\u001b[0;34m\u001b[0m\u001b[0m\n\u001b[0m\u001b[1;32m    333\u001b[0m             \u001b[0;31m# Finally look for special method names\u001b[0m\u001b[0;34m\u001b[0m\u001b[0;34m\u001b[0m\u001b[0m\n\u001b[1;32m    334\u001b[0m             \u001b[0mmethod\u001b[0m \u001b[0;34m=\u001b[0m \u001b[0mget_real_method\u001b[0m\u001b[0;34m(\u001b[0m\u001b[0mobj\u001b[0m\u001b[0;34m,\u001b[0m \u001b[0mself\u001b[0m\u001b[0;34m.\u001b[0m\u001b[0mprint_method\u001b[0m\u001b[0;34m)\u001b[0m\u001b[0;34m\u001b[0m\u001b[0m\n",
      "\u001b[0;32m~/anaconda3/envs/python36/lib/python3.6/site-packages/mpld3/_display.py\u001b[0m in \u001b[0;36m<lambda>\u001b[0;34m(fig, kwds)\u001b[0m\n\u001b[1;32m    408\u001b[0m     \u001b[0mformatter\u001b[0m \u001b[0;34m=\u001b[0m \u001b[0mip\u001b[0m\u001b[0;34m.\u001b[0m\u001b[0mdisplay_formatter\u001b[0m\u001b[0;34m.\u001b[0m\u001b[0mformatters\u001b[0m\u001b[0;34m[\u001b[0m\u001b[0;34m'text/html'\u001b[0m\u001b[0;34m]\u001b[0m\u001b[0;34m\u001b[0m\u001b[0m\n\u001b[1;32m    409\u001b[0m     formatter.for_type(Figure,\n\u001b[0;32m--> 410\u001b[0;31m                        lambda fig, kwds=kwargs: fig_to_html(fig, **kwds))\n\u001b[0m\u001b[1;32m    411\u001b[0m \u001b[0;34m\u001b[0m\u001b[0m\n\u001b[1;32m    412\u001b[0m \u001b[0;34m\u001b[0m\u001b[0m\n",
      "\u001b[0;32m~/anaconda3/envs/python36/lib/python3.6/site-packages/mpld3/_display.py\u001b[0m in \u001b[0;36mfig_to_html\u001b[0;34m(fig, d3_url, mpld3_url, no_extras, template_type, figid, use_http, **kwargs)\u001b[0m\n\u001b[1;32m    249\u001b[0m                            \u001b[0md3_url\u001b[0m\u001b[0;34m=\u001b[0m\u001b[0md3_url\u001b[0m\u001b[0;34m,\u001b[0m\u001b[0;34m\u001b[0m\u001b[0m\n\u001b[1;32m    250\u001b[0m                            \u001b[0mmpld3_url\u001b[0m\u001b[0;34m=\u001b[0m\u001b[0mmpld3_url\u001b[0m\u001b[0;34m,\u001b[0m\u001b[0;34m\u001b[0m\u001b[0m\n\u001b[0;32m--> 251\u001b[0;31m                            \u001b[0mfigure_json\u001b[0m\u001b[0;34m=\u001b[0m\u001b[0mjson\u001b[0m\u001b[0;34m.\u001b[0m\u001b[0mdumps\u001b[0m\u001b[0;34m(\u001b[0m\u001b[0mfigure_json\u001b[0m\u001b[0;34m,\u001b[0m \u001b[0mcls\u001b[0m\u001b[0;34m=\u001b[0m\u001b[0mNumpyEncoder\u001b[0m\u001b[0;34m)\u001b[0m\u001b[0;34m,\u001b[0m\u001b[0;34m\u001b[0m\u001b[0m\n\u001b[0m\u001b[1;32m    252\u001b[0m                            \u001b[0mextra_css\u001b[0m\u001b[0;34m=\u001b[0m\u001b[0mextra_css\u001b[0m\u001b[0;34m,\u001b[0m\u001b[0;34m\u001b[0m\u001b[0m\n\u001b[1;32m    253\u001b[0m                            extra_js=extra_js)\n",
      "\u001b[0;32m~/anaconda3/envs/python36/lib/python3.6/json/__init__.py\u001b[0m in \u001b[0;36mdumps\u001b[0;34m(obj, skipkeys, ensure_ascii, check_circular, allow_nan, cls, indent, separators, default, sort_keys, **kw)\u001b[0m\n\u001b[1;32m    236\u001b[0m         \u001b[0mcheck_circular\u001b[0m\u001b[0;34m=\u001b[0m\u001b[0mcheck_circular\u001b[0m\u001b[0;34m,\u001b[0m \u001b[0mallow_nan\u001b[0m\u001b[0;34m=\u001b[0m\u001b[0mallow_nan\u001b[0m\u001b[0;34m,\u001b[0m \u001b[0mindent\u001b[0m\u001b[0;34m=\u001b[0m\u001b[0mindent\u001b[0m\u001b[0;34m,\u001b[0m\u001b[0;34m\u001b[0m\u001b[0m\n\u001b[1;32m    237\u001b[0m         \u001b[0mseparators\u001b[0m\u001b[0;34m=\u001b[0m\u001b[0mseparators\u001b[0m\u001b[0;34m,\u001b[0m \u001b[0mdefault\u001b[0m\u001b[0;34m=\u001b[0m\u001b[0mdefault\u001b[0m\u001b[0;34m,\u001b[0m \u001b[0msort_keys\u001b[0m\u001b[0;34m=\u001b[0m\u001b[0msort_keys\u001b[0m\u001b[0;34m,\u001b[0m\u001b[0;34m\u001b[0m\u001b[0m\n\u001b[0;32m--> 238\u001b[0;31m         **kw).encode(obj)\n\u001b[0m\u001b[1;32m    239\u001b[0m \u001b[0;34m\u001b[0m\u001b[0m\n\u001b[1;32m    240\u001b[0m \u001b[0;34m\u001b[0m\u001b[0m\n",
      "\u001b[0;32m~/anaconda3/envs/python36/lib/python3.6/json/encoder.py\u001b[0m in \u001b[0;36mencode\u001b[0;34m(self, o)\u001b[0m\n\u001b[1;32m    197\u001b[0m         \u001b[0;31m# exceptions aren't as detailed.  The list call should be roughly\u001b[0m\u001b[0;34m\u001b[0m\u001b[0;34m\u001b[0m\u001b[0m\n\u001b[1;32m    198\u001b[0m         \u001b[0;31m# equivalent to the PySequence_Fast that ''.join() would do.\u001b[0m\u001b[0;34m\u001b[0m\u001b[0;34m\u001b[0m\u001b[0m\n\u001b[0;32m--> 199\u001b[0;31m         \u001b[0mchunks\u001b[0m \u001b[0;34m=\u001b[0m \u001b[0mself\u001b[0m\u001b[0;34m.\u001b[0m\u001b[0miterencode\u001b[0m\u001b[0;34m(\u001b[0m\u001b[0mo\u001b[0m\u001b[0;34m,\u001b[0m \u001b[0m_one_shot\u001b[0m\u001b[0;34m=\u001b[0m\u001b[0;32mTrue\u001b[0m\u001b[0;34m)\u001b[0m\u001b[0;34m\u001b[0m\u001b[0m\n\u001b[0m\u001b[1;32m    200\u001b[0m         \u001b[0;32mif\u001b[0m \u001b[0;32mnot\u001b[0m \u001b[0misinstance\u001b[0m\u001b[0;34m(\u001b[0m\u001b[0mchunks\u001b[0m\u001b[0;34m,\u001b[0m \u001b[0;34m(\u001b[0m\u001b[0mlist\u001b[0m\u001b[0;34m,\u001b[0m \u001b[0mtuple\u001b[0m\u001b[0;34m)\u001b[0m\u001b[0;34m)\u001b[0m\u001b[0;34m:\u001b[0m\u001b[0;34m\u001b[0m\u001b[0m\n\u001b[1;32m    201\u001b[0m             \u001b[0mchunks\u001b[0m \u001b[0;34m=\u001b[0m \u001b[0mlist\u001b[0m\u001b[0;34m(\u001b[0m\u001b[0mchunks\u001b[0m\u001b[0;34m)\u001b[0m\u001b[0;34m\u001b[0m\u001b[0m\n",
      "\u001b[0;32m~/anaconda3/envs/python36/lib/python3.6/json/encoder.py\u001b[0m in \u001b[0;36miterencode\u001b[0;34m(self, o, _one_shot)\u001b[0m\n\u001b[1;32m    255\u001b[0m                 \u001b[0mself\u001b[0m\u001b[0;34m.\u001b[0m\u001b[0mkey_separator\u001b[0m\u001b[0;34m,\u001b[0m \u001b[0mself\u001b[0m\u001b[0;34m.\u001b[0m\u001b[0mitem_separator\u001b[0m\u001b[0;34m,\u001b[0m \u001b[0mself\u001b[0m\u001b[0;34m.\u001b[0m\u001b[0msort_keys\u001b[0m\u001b[0;34m,\u001b[0m\u001b[0;34m\u001b[0m\u001b[0m\n\u001b[1;32m    256\u001b[0m                 self.skipkeys, _one_shot)\n\u001b[0;32m--> 257\u001b[0;31m         \u001b[0;32mreturn\u001b[0m \u001b[0m_iterencode\u001b[0m\u001b[0;34m(\u001b[0m\u001b[0mo\u001b[0m\u001b[0;34m,\u001b[0m \u001b[0;36m0\u001b[0m\u001b[0;34m)\u001b[0m\u001b[0;34m\u001b[0m\u001b[0m\n\u001b[0m\u001b[1;32m    258\u001b[0m \u001b[0;34m\u001b[0m\u001b[0m\n\u001b[1;32m    259\u001b[0m def _make_iterencode(markers, _default, _encoder, _indent, _floatstr,\n",
      "\u001b[0;32m~/anaconda3/envs/python36/lib/python3.6/site-packages/mpld3/_display.py\u001b[0m in \u001b[0;36mdefault\u001b[0;34m(self, obj)\u001b[0m\n\u001b[1;32m    136\u001b[0m             numpy.float64)):\n\u001b[1;32m    137\u001b[0m             \u001b[0;32mreturn\u001b[0m \u001b[0mfloat\u001b[0m\u001b[0;34m(\u001b[0m\u001b[0mobj\u001b[0m\u001b[0;34m)\u001b[0m\u001b[0;34m\u001b[0m\u001b[0m\n\u001b[0;32m--> 138\u001b[0;31m         \u001b[0;32mreturn\u001b[0m \u001b[0mjson\u001b[0m\u001b[0;34m.\u001b[0m\u001b[0mJSONEncoder\u001b[0m\u001b[0;34m.\u001b[0m\u001b[0mdefault\u001b[0m\u001b[0;34m(\u001b[0m\u001b[0mself\u001b[0m\u001b[0;34m,\u001b[0m \u001b[0mobj\u001b[0m\u001b[0;34m)\u001b[0m\u001b[0;34m\u001b[0m\u001b[0m\n\u001b[0m\u001b[1;32m    139\u001b[0m \u001b[0;34m\u001b[0m\u001b[0m\n\u001b[1;32m    140\u001b[0m \u001b[0;34m\u001b[0m\u001b[0m\n",
      "\u001b[0;32m~/anaconda3/envs/python36/lib/python3.6/json/encoder.py\u001b[0m in \u001b[0;36mdefault\u001b[0;34m(self, o)\u001b[0m\n\u001b[1;32m    178\u001b[0m         \"\"\"\n\u001b[1;32m    179\u001b[0m         raise TypeError(\"Object of type '%s' is not JSON serializable\" %\n\u001b[0;32m--> 180\u001b[0;31m                         o.__class__.__name__)\n\u001b[0m\u001b[1;32m    181\u001b[0m \u001b[0;34m\u001b[0m\u001b[0m\n\u001b[1;32m    182\u001b[0m     \u001b[0;32mdef\u001b[0m \u001b[0mencode\u001b[0m\u001b[0;34m(\u001b[0m\u001b[0mself\u001b[0m\u001b[0;34m,\u001b[0m \u001b[0mo\u001b[0m\u001b[0;34m)\u001b[0m\u001b[0;34m:\u001b[0m\u001b[0;34m\u001b[0m\u001b[0m\n",
      "\u001b[0;31mTypeError\u001b[0m: Object of type 'ndarray' is not JSON serializable"
     ]
    },
    {
     "data": {
      "image/png": "[encoded data removed]",
      "text/plain": [
       "<Figure size 576x576 with 1 Axes>"
      ]
     },
     "metadata": {},
     "output_type": "display_data"
    }
   ],
   "source": [
    "fig, ax = plt.subplots(figsize=(8,8))\n",
    "ax.grid(color='white', linestyle='solid')\n",
    "\n",
    "num_words_to_plot = len(words_list)\n",
    "\n",
    "scatter = ax.scatter(x_y[:num_words_to_plot, 0], x_y[:num_words_to_plot, 1], s = 100, c='#3EEEEE', alpha=0.1, cmap=plt.cm.jet)\n",
    "labels = [int_to_vocab[i] for i in range(num_words_to_plot)]\n",
    "plugins.connect(fig, plugins.PointLabelTooltip(scatter, labels))"
   ]
  },
  {
   "cell_type": "code",
   "execution_count": null,
   "metadata": {},
   "outputs": [],
   "source": []
  }
 ],
 "metadata": {
  "kernelspec": {
   "display_name": "Python 3",
   "language": "python",
   "name": "python3"
  },
  "language_info": {
   "codemirror_mode": {
    "name": "ipython",
    "version": 3
   },
   "file_extension": ".py",
   "mimetype": "text/x-python",
   "name": "python",
   "nbconvert_exporter": "python",
   "pygments_lexer": "ipython3",
   "version": "3.6.3"
  }
 },
 "nbformat": 4,
 "nbformat_minor": 2
}
